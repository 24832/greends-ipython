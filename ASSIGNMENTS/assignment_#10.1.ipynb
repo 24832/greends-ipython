{
 "cells": [
  {
   "cell_type": "markdown",
   "metadata": {},
   "source": [
    "## ASSIGNMENT #10.1  - Create an API that receives Tmin, Tmax, RHmean and returns VPD\n",
    "- Sync your Fork\n",
    "- create a file called vpd_api.py\n",
    "- the api should return Vapour Pressure Values given Tmin, Tmax, RHmean\n",
    "- the api needs to handle data input errors (e.g. needs to make sure that floats are given, etc) "
   ]
  }
 ],
 "metadata": {
  "kernelspec": {
   "display_name": "Python 3.10.7 64-bit",
   "language": "python",
   "name": "python3"
  },
  "language_info": {
   "codemirror_mode": {
    "name": "ipython",
    "version": 3
   },
   "file_extension": ".py",
   "mimetype": "text/x-python",
   "name": "python",
   "nbconvert_exporter": "python",
   "pygments_lexer": "ipython3",
   "version": "3.10.7"
  },
  "orig_nbformat": 4,
  "vscode": {
   "interpreter": {
    "hash": "aee8b7b246df8f9039afb4144a1f6fd8d2ca17a180786b69acc140d282b71a49"
   }
  }
 },
 "nbformat": 4,
 "nbformat_minor": 2
}
