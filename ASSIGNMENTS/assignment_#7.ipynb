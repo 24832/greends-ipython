{
 "cells": [
  {
   "cell_type": "code",
   "execution_count": null,
   "metadata": {},
   "outputs": [],
   "source": [
    "import sys\n",
    "# (Facultative) setting path to get your myfunctions \n",
    "sys.path.append('../FORGE/JOAOPALMA') # This adds your modules if your module is somewhere else not script folder or subfolders\n",
    "\n",
    "import pandas as pd\n",
    "import myfunctions\n",
    "Current = pd.read_csv('../Climate_hisafe_knmievaluation_daily_from_01-01-1981_to_31-12-2010.csv', skiprows=[0])\n",
    "Future = pd.read_csv('../Climate_hisafe_knmircp85_daily_from_01-01-2006_to_31-12-2100.csv', skiprows=[0])\n",
    "\n",
    "# Calculate VPD with pandas (your vpd function should work with numpy instead math library)\n",
    "# The following creates an additional column called \"VPD\" where your function is used\n",
    "Current[\"VPD\"] = myfunctions.calculate_vpd(Current[\"tasmax\"],Current[\"tasmin\"],Current[\"hurs\"] )\n",
    "Future[\"VPD\"] = myfunctions.calculate_vpd(Future[\"tasmax\"],Future[\"tasmin\"],Future[\"hurs\"] )\n",
    "\n",
    "### ... keep going"
   ]
  },
  {
   "cell_type": "markdown",
   "metadata": {},
   "source": []
  }
 ],
 "metadata": {
  "kernelspec": {
   "display_name": "Python 3",
   "language": "python",
   "name": "python3"
  },
  "language_info": {
   "name": "python",
   "version": "3.9.12 (main, Apr  4 2022, 05:22:27) [MSC v.1916 64 bit (AMD64)]"
  },
  "orig_nbformat": 4,
  "vscode": {
   "interpreter": {
    "hash": "837ebf68dbcfd8ee03dd9cfb841ed45d11b171126d90364b57c077ed2612ad29"
   }
  }
 },
 "nbformat": 4,
 "nbformat_minor": 2
}
