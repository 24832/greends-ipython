{
 "cells": [
  {
   "cell_type": "code",
   "execution_count": null,
   "metadata": {},
   "outputs": [],
   "source": [
    "import sys\n",
    "import pandas as pd\n",
    "import numpy as np\n",
    "import matplotlib as mpl\n",
    "import matplotlib.pyplot as plt\n",
    "import myFunctions as mf\n",
    "\n",
    "# (Facultative) setting path to get your myfunctions \n",
    "# sys.path.append('../FORGE/JOAOPALMA') # This adds your modules if your module is somewhere else not script folder or subfolders\n",
    "\n",
    "Current = pd.read_csv('Climate_hisafe_knmievaluation_daily_from_01-01-1981_to_31-12-2010.csv', skiprows=[0])\n",
    "Future = pd.read_csv('Climate_hisafe_knmircp85_daily_from_01-01-2006_to_31-12-2100.csv', skiprows=[0])\n",
    "\n",
    "# Calculate VPD with pandas (your vpd function should work with numpy instead math library)\n",
    "# The following creates an additional column called \"VPD\" where your function is used\n",
    "Current[\"VPD\"] = mf.calculate_vpd(Current[\"tasmax\"],Current[\"tasmin\"],Current[\"hurs\"] )\n",
    "Future[\"VPD\"] = mf.calculate_vpd(Future[\"tasmax\"],Future[\"tasmin\"],Future[\"hurs\"] )\n",
    "\n",
    "# Calculate monthly averages\n",
    "#Create a subset from 2031 to 2060\n",
    "Future_2031_2060 = Future[(Future[\"Year\"] >= 2031) & (Future[\"Year\"] <= 2060)]\n",
    "\n",
    "#Calculate monthly averages\n",
    "\n",
    "monthly_avg = Current.groupby([\"Year\", \"Month\"]).mean()\n",
    "print(monthly_avg)"
   ]
  }
 ],
 "metadata": {
  "kernelspec": {
   "display_name": "Python 3",
   "language": "python",
   "name": "python3"
  },
  "language_info": {
   "codemirror_mode": {
    "name": "ipython",
    "version": 3
   },
   "file_extension": ".py",
   "mimetype": "text/x-python",
   "name": "python",
   "nbconvert_exporter": "python",
   "pygments_lexer": "ipython3",
   "version": "3.9.12"
  },
  "orig_nbformat": 4,
  "vscode": {
   "interpreter": {
    "hash": "837ebf68dbcfd8ee03dd9cfb841ed45d11b171126d90364b57c077ed2612ad29"
   }
  }
 },
 "nbformat": 4,
 "nbformat_minor": 2
}
