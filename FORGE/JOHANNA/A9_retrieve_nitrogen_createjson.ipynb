{
 "cells": [
  {
   "cell_type": "markdown",
   "metadata": {},
   "source": [
    "## ASSIGNMENT #9  - Calculate Nitrogen deposition across europe to help farmers optimize fertilizer application (Real World)\n",
    "- Sync your Fork"
   ]
  },
  {
   "cell_type": "markdown",
   "metadata": {},
   "source": [
    "\n",
    "### 9.1 - Intro\n",
    "- Over fertilization or farmland can lead to groundwater pollution. The European Farmers Association has requested you to build a program that provides the ammount of nitrogen atmospheric deposition across europe, for any particular location in Europe. This will allow farmers to optimize (reduce) the ammount of fertilizer application, reducing groundwater pollution while also reducing costs\n",
    "- the python program will receive a coordinate (decimal lat and lon), and outputs a json with the Nitrogen deposition in Kg/ha and some metadata"
   ]
  },
  {
   "cell_type": "markdown",
   "metadata": {},
   "source": [
    "### 9.2 - Mission\n",
    "- <span style=\"color:green\">Create a file called ***ndeposition.py*** in your FORGE</span> or <span style=\"color:green\">Copy this notebook file into your forge and continue coding in this file</span>\n",
    "- Consider the file ***EMEP01_rv4.42_year.2019met_2019emis.nc***\n",
    "- Total nitrogen deposition is the sum of wet and dry, reduced and oxidized forms of Nitrogen:\n",
    "  - Consider our file EMEP01_rv4.42_year.2019met_2019emis.nc\n",
    "  - Look at the metadata @ https://emep.int/mscw/mscw_moddata.html to check which are the name of the layers in the NetCDF for the dry and wet, oxidized and reduced nitrogen\n",
    "  \n",
    "  - Retrieve those, sum them up and convert it to Kg/ha, for the location near Beja, with Lat: 37.9, Lon: -7.8\n",
    "-\n",
    "- The output should be the following json:\n",
    "\n",
    "```json\n",
    "{\n",
    "    \"version\": \"0.1\",\n",
    "    \"version_notes\": \"Exercise for Green DataScience. Data extracted from 2019 EMEP (www.emep.int) dataset EMEP01_rv4.42_year.2019met_2019emis.nc with 0.1 degrees resolution (approx 11.1 km) - Dry and wet deposition of oxidized and reduced N (DDEP_OXN_m2Grid + DDEP_RDN_m2Grid + WDEP_OXN + WDEP_RDN) converted from mgN m-2 to kg ha-1\",\n",
    "    \"coordinate_requested\": {\n",
    "        \"lon\": \"-7.80\",\n",
    "        \"lat\": \"37.90\"\n",
    "    },\n",
    "    \"coordinate_retrieved\": {\n",
    "        \"lon\": \"-7.85\",\n",
    "        \"lat\": \"37.95\"\n",
    "    },\n",
    "    \"data\": {\n",
    "        \"total_n_deposition\": {\n",
    "            \"value\": \"2.6\",\n",
    "            \"unit\": \"kg ha-1\"\n",
    "        }\n",
    "    }\n",
    "}\n",
    "```"
   ]
  },
  {
   "cell_type": "markdown",
   "metadata": {},
   "source": [
    "- Wet deposition of oxidized nitrogen --- WDEP_OXN\n",
    "- Wet deposition of reduced nitrogen --- WDEP_RDN\n",
    "- Dry deposition of oxidized nitrogen per m2 grid --- DDEP_OXN_m2Grid\n",
    "- Dry deposition of reduced nitrogen per m2 grid --- DDEP_RDN_m2Grid\n",
    "https://emep.int/publ/reports/2019/EMEP_Status_Report_1_2019.pdf:\n",
    "\"For [...] **nitrogen compounds**, the **basic units** used throughout this report are μg (S or\n",
    "N)/m3 for air concentrations and **mg (S or N)/m2 for depositions**\""
   ]
  },
  {
   "cell_type": "code",
   "execution_count": 22,
   "metadata": {},
   "outputs": [
    {
     "name": "stdout",
     "output_type": "stream",
     "text": [
      "{\n",
      "    \"version\": \"0.1\",\n",
      "    \"version_notes\": \"Exercise for Green DataScience. Data extracted from 2019 EMEP (www.emep.int) dataset EMEP01_rv4.42_year.2019met_2019emis.nc with 0.1 degrees resolution (approx 11.1 km) - Dry and wet deposition of oxidized and reduced N (DDEP_OXN_m2Grid + DDEP_RDN_m2Grid + WDEP_OXN + WDEP_RDN) converted from mgN m-2 to kg ha-1\",\n",
      "    \"coordinate_requested\": {\n",
      "        \"lon\": -7.8,\n",
      "        \"lat\": 37.9\n",
      "    },\n",
      "    \"coordinate_retrieved\": {\n",
      "        \"lon\": -7.85,\n",
      "        \"lat\": 37.85\n",
      "    },\n",
      "    \"data\": {\n",
      "        \"total_n_deposition\": {\n",
      "            \"value\": 2.92,\n",
      "            \"unit\": \"kg ha-1\"\n",
      "        }\n",
      "    }\n",
      "}\n"
     ]
    }
   ],
   "source": [
    "# Load your NetCDF as before:\n",
    "import netCDF4 as nc \n",
    "import numpy as np\n",
    "import json\n",
    "fn = 'C:/Users/johan/greends/greends-ipython/EMEP01_rv4.42_year.2019met_2019emis.nc' # update this path to your own file\n",
    "\n",
    "ds = nc.Dataset(fn)\n",
    "\n",
    "#list of the lat, lon, coordinates and precipitation\n",
    "lats = ds.variables['lat'][:]\n",
    "lons = ds.variables['lon'][:]\n",
    "dry_NOXdep = ds.variables['DDEP_OXN_m2Grid']\n",
    "dry_NRDdep = ds.variables['DDEP_RDN_m2Grid']\n",
    "wet_NOXdep = ds.variables['WDEP_OXN']\n",
    "wet_NRDdep = ds.variables['WDEP_RDN']\n",
    "\n",
    "# Retrieve indexes of coordinates values for the location near Beja, with Lat: 37.9, Lon: -7.8\n",
    "inLat = 37.9\n",
    "inLon = -7.8\n",
    "indexLat = np.absolute(lats-inLat).argmin()\n",
    "indexLon = np.absolute(lons-inLon).argmin()\n",
    "\n",
    "# retrieve values\n",
    "outLat = round(lats[indexLat],2)\n",
    "outLon = round(lons[indexLon],2)\n",
    "dNox = dry_NOXdep[:,indexLat, indexLon]\n",
    "dNrd = dry_NRDdep[:,indexLat, indexLon]\n",
    "wNox = wet_NOXdep[:,indexLat, indexLon]\n",
    "wNrd = wet_NRDdep[:,indexLat, indexLon]\n",
    "\n",
    "# sum them up and convert it to Kg/ha from mg/m2\n",
    "total_N_dep = dNox + dNrd + dNox+ wNrd\n",
    "total_N_dep = round(float(total_N_dep) * 0.01,2)\n",
    "\n",
    "# generate dict\n",
    "out = {\n",
    "    \"version\": \"0.1\",\n",
    "    \"version_notes\": \"Exercise for Green DataScience. Data extracted from 2019 EMEP (www.emep.int) dataset EMEP01_rv4.42_year.2019met_2019emis.nc with 0.1 degrees resolution (approx 11.1 km) - Dry and wet deposition of oxidized and reduced N (DDEP_OXN_m2Grid + DDEP_RDN_m2Grid + WDEP_OXN + WDEP_RDN) converted from mgN m-2 to kg ha-1\",\n",
    "    \"coordinate_requested\": {\n",
    "        \"lon\": inLon,\n",
    "        \"lat\": inLat\n",
    "    },\n",
    "    \"coordinate_retrieved\": {\n",
    "        \"lon\": outLon,\n",
    "        \"lat\": outLat\n",
    "    },\n",
    "    \"data\": {\n",
    "        \"total_n_deposition\": {\n",
    "            \"value\": total_N_dep,\n",
    "            \"unit\": \"kg ha-1\"\n",
    "        }\n",
    "    }\n",
    "}\n",
    "\n",
    "# convert to json file\n",
    "out = json.dumps(out, indent=4)\n",
    "print(out)"
   ]
  },
  {
   "cell_type": "code",
   "execution_count": null,
   "metadata": {},
   "outputs": [],
   "source": []
  },
  {
   "cell_type": "code",
   "execution_count": null,
   "metadata": {},
   "outputs": [],
   "source": []
  }
 ],
 "metadata": {
  "kernelspec": {
   "display_name": "Python 3.10.4 64-bit",
   "language": "python",
   "name": "python3"
  },
  "language_info": {
   "codemirror_mode": {
    "name": "ipython",
    "version": 3
   },
   "file_extension": ".py",
   "mimetype": "text/x-python",
   "name": "python",
   "nbconvert_exporter": "python",
   "pygments_lexer": "ipython3",
   "version": "3.10.4"
  },
  "vscode": {
   "interpreter": {
    "hash": "7d3132c63595c5bd9835a7d3d4e82d2178644ed42d28c98d306a1f36334182b0"
   }
  }
 },
 "nbformat": 4,
 "nbformat_minor": 2
}
