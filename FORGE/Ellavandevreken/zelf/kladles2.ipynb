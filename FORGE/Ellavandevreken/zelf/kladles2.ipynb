{
 "cells": [
  {
   "cell_type": "code",
   "execution_count": 1,
   "metadata": {},
   "outputs": [
    {
     "name": "stdout",
     "output_type": "stream",
     "text": [
      "four is greater than zero!\n",
      "four is greater than zero!\n",
      "four is greater than zero!\n"
     ]
    }
   ],
   "source": [
    "#identation\n",
    "if 4 > 0: \n",
    "    print(\"four is greater than zero!\")\n",
    "\n",
    "#this will give an error\n",
    "if 4 > 0:\n",
    "    print(\"four is greater than zero!\")\n",
    "    print(\"four is greater than zero!\")\n",
    "##vervolg gemist zie doc achteraf"
   ]
  },
  {
   "cell_type": "code",
   "execution_count": null,
   "metadata": {},
   "outputs": [],
   "source": [
    "#variables are created to assign a value to\n",
    "x=3 #creates variable x with value 3\n",
    "y=\"5\" #creates the variable y and assigns a string of \"5\"\n",
    "x=\"10\" #x is reassigned to a strin o \"10\"\n",
    "x=[] \n",
    "##vervolg gemist zie doc achteraf"
   ]
  },
  {
   "cell_type": "code",
   "execution_count": null,
   "metadata": {},
   "outputs": [],
   "source": [
    "#integer\n",
    "a = 25\n",
    "print(a)\n",
    "\n",
    "##vervolg gemist zie doc achteraf\n"
   ]
  },
  {
   "cell_type": "code",
   "execution_count": null,
   "metadata": {},
   "outputs": [],
   "source": [
    "#string\n",
    "a = \"greends\"\n",
    "print(a)\n",
    "\n",
    "a = 'greends'\n",
    "print(a)\n",
    "\n",
    "a = ' ' ##blank string\n",
    "print(a)\n",
    "\n",
    "a = \"it's cold\"\n",
    "print(a)\n",
    "\n",
    "a = 'it's cold' \n",
    "print(a)\n",
    "\n",
    "a = \"it's cold\"\n",
    "print(a)\n",
    "\n",
    "a = 'it's cold'  #backslash betekent negeer the next character\n",
    "print(a)\n",
    "\n",
    "a = '''it's \"very\" cold'''\n",
    "print(a)\n",
    "print(type(a))"
   ]
  },
  {
   "cell_type": "code",
   "execution_count": null,
   "metadata": {},
   "outputs": [],
   "source": [
    "#boolean type\n",
    "\n",
    "a = True\n",
    "print(a)\n",
    "\n",
    "a = False\n",
    "print(a)\n",
    "\n",
    "\n",
    "##vervolg gemist zie doc achteraf"
   ]
  },
  {
   "cell_type": "code",
   "execution_count": null,
   "metadata": {},
   "outputs": [],
   "source": [
    "### casting\n",
    "#sometimes you need to specify a type on to a variable"
   ]
  },
  {
   "cell_type": "code",
   "execution_count": 2,
   "metadata": {},
   "outputs": [
    {
     "name": "stdout",
     "output_type": "stream",
     "text": [
      "4.2 <class 'str'>\n"
     ]
    }
   ],
   "source": [
    "#converting numbers of different types\n",
    "a = \"4.2\"\n",
    "print(a, type(a))\n",
    "\n",
    "##vervolg gemist zie doc achteraf\n"
   ]
  },
  {
   "cell_type": "code",
   "execution_count": 6,
   "metadata": {},
   "outputs": [
    {
     "name": "stdout",
     "output_type": "stream",
     "text": [
      "{'key1': 1, 'key2': 4, 'key3': 'greenDS'}\n",
      "{}\n",
      "{'key1': 1, 'key2': 4, 'key3': 'greenDS', 'key4': 'hey'}\n"
     ]
    }
   ],
   "source": [
    "#dict\n",
    "dic1={\"key1\":1,\"key2\":4,\"key3\":\"greenDS\"}\n",
    "dic2={}\n",
    "dic3={\"key1\":1,\"key2\":4,\"key3\":\"greenDS\", \"key4\":'hey'}\n",
    "\n",
    "print(dic1)\n",
    "print(dic2)\n",
    "print(dic3)"
   ]
  },
  {
   "cell_type": "code",
   "execution_count": 6,
   "metadata": {},
   "outputs": [
    {
     "name": "stdout",
     "output_type": "stream",
     "text": [
      "90\n"
     ]
    }
   ],
   "source": [
    "p = 88+2\n",
    "print(p)"
   ]
  },
  {
   "cell_type": "code",
   "execution_count": 7,
   "metadata": {},
   "outputs": [
    {
     "name": "stdout",
     "output_type": "stream",
     "text": [
      "1\n",
      "2\n",
      "3\n"
     ]
    }
   ],
   "source": [
    "for i in range(3):\n",
    "    print(i+1)"
   ]
  },
  {
   "cell_type": "code",
   "execution_count": 8,
   "metadata": {},
   "outputs": [
    {
     "data": {
      "text/plain": [
       "''"
      ]
     },
     "execution_count": 8,
     "metadata": {},
     "output_type": "execute_result"
    }
   ],
   "source": [
    "\"\"\"\n",
    "commentarea via die 3 keer \" \n",
    "\"\"\""
   ]
  },
  {
   "cell_type": "code",
   "execution_count": 9,
   "metadata": {},
   "outputs": [],
   "source": [
    "#alles in comment zetten kan via crtl en k"
   ]
  }
 ],
 "metadata": {
  "kernelspec": {
   "display_name": "Python 3.10.7 64-bit",
   "language": "python",
   "name": "python3"
  },
  "language_info": {
   "codemirror_mode": {
    "name": "ipython",
    "version": 3
   },
   "file_extension": ".py",
   "mimetype": "text/x-python",
   "name": "python",
   "nbconvert_exporter": "python",
   "pygments_lexer": "ipython3",
   "version": "3.10.7"
  },
  "orig_nbformat": 4,
  "vscode": {
   "interpreter": {
    "hash": "6c5405d49e51144a00c57b9bf98c9b47edbe82c38aa7a2ee9105a301e92b20c5"
   }
  }
 },
 "nbformat": 4,
 "nbformat_minor": 2
}
