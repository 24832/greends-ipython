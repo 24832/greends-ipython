{
 "cells": [
  {
   "cell_type": "markdown",
   "metadata": {},
   "source": [
    "## ASSIGNMENT #8  - Create a program to retrieve the value of Precipitation given a latitute and longitude coordinate. (Real World)\n",
    "- <span style=\"color:gold\">***(copy this notebook to your PERSONAL FORGE)***</span>"
   ]
  },
  {
   "cell_type": "markdown",
   "metadata": {},
   "source": [
    "\n",
    "- To retrieve values of a RASTER (or NetCDF) from a certain real geografic coordinate, you first need to find to which indexes that lat and lon corresponds in the NetCDF grid\n",
    "- Consider the file ***EMEP01_rv4.42_year.2019met_2019emis.nc***\n",
    "- Consider you want to retrieve precipitation (WDEP_PREC variable from the dataset) from the location with Lat: 38.568, Lon: -9.720\n",
    "- Assignment is to get precipitation from location inLat: 38.568, inLon: -9.720\n",
    "- **Tip:** Find the index of the latitude which is nearer to inLat. Do the same to inLon\n",
    "- then print the precipitation for those indexes (wich is the precipitation of the inLat and inLon)\n",
    "- **Tip**: create a function in your collection (e.g. myFunctions) to find the index of nearest coordinate, eg a function that receives as arguments 1) a number (coordinate), and 2) a list (of coordinates), returning the index of the nearest coodinate found in that list"
   ]
  },
  {
   "cell_type": "code",
   "execution_count": 1,
   "metadata": {},
   "outputs": [
    {
     "name": "stdout",
     "output_type": "stream",
     "text": [
      "0.6056921297711275\n",
      "0.327425840367348\n",
      "392.64078 mm\n"
     ]
    }
   ],
   "source": [
    "# Load your NetCDF as before:\n",
    "import netCDF4 as nc \n",
    "import myFunctions as func\n",
    "import numpy as np \n",
    "\n",
    "f = \"EMEP01_rv4.42_year.2019met_2019emis.nc\" # update this path to your own file\n",
    "ds = nc.Dataset(f)\n",
    "\n",
    "time = ds.variables['time']\n",
    "lat = ds.variables['lat']\n",
    "lon = ds.variables['lon']\n",
    "precipitation = ds.variables['WDEP_PREC']\n",
    "\n",
    "\n",
    "#list of the lat, lon, coordinates and precipitation\n",
    "lat_values = ds.variables['lat'][:]\n",
    "lon_values = ds.variables['lon'][:]\n",
    "time_values = ds.variables['time'][:]\n",
    "precipitation_values = ds.variables['WDEP_PREC'][:]\n",
    "\n",
    "# Get the closest indexes from location inLat: 38.568, inLon: -9.720\n",
    "\n",
    "lat_index = func.closest_index(38.568, lat_values)\n",
    "lon_index = func.closest_index(-9.720, lon_values)\n",
    "\n",
    "#print(lat_index, lat.units)\n",
    "#print(lon_index, lon.units)\n",
    "\n",
    "# Print the precipitation for those indexes (lat_index = 85, lon_index = 202)\n",
    "\n",
    "print(precipitation_values[0, lat_index, lon_index], precipitation.units)\n"
   ]
  }
 ],
 "metadata": {
  "kernelspec": {
   "display_name": "Python 3.10.8 64-bit (microsoft store)",
   "language": "python",
   "name": "python3"
  },
  "language_info": {
   "codemirror_mode": {
    "name": "ipython",
    "version": 3
   },
   "file_extension": ".py",
   "mimetype": "text/x-python",
   "name": "python",
   "nbconvert_exporter": "python",
   "pygments_lexer": "ipython3",
   "version": "3.10.8"
  },
  "orig_nbformat": 4,
  "vscode": {
   "interpreter": {
    "hash": "0d0fb292d2b71c98c25315e90ef44ae548f3116b0dd78fd15839fca69618e06b"
   }
  }
 },
 "nbformat": 4,
 "nbformat_minor": 2
}
