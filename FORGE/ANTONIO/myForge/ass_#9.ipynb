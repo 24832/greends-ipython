{
 "cells": [
  {
   "cell_type": "markdown",
   "metadata": {},
   "source": [
    "## ASSIGNMENT #9  - Calculate Nitrogen deposition across europe to help farmers optimize fertilizer application (Real World)\n",
    "- Sync your Fork"
   ]
  },
  {
   "cell_type": "markdown",
   "metadata": {},
   "source": [
    "\n",
    "### 9.1 - Intro\n",
    "- Over fertilization or farmland can lead to groundwater pollution. The European Farmers Association has requested you to build a program that provides the ammount of nitrogen atmospheric deposition across europe, for any particular location in Europe. This will allow farmers to optimize (reduce) the ammount of fertilizer application, reducing groundwater pollution while also reducing costs\n",
    "- the python program will receive a coordinate (decimal lat and lon), and outputs a json with the Nitrogen deposition in Kg/ha and some metadata"
   ]
  },
  {
   "cell_type": "markdown",
   "metadata": {},
   "source": [
    "### 9.2 - Mission\n",
    "- <span style=\"color:green\">Create a file called ***ndeposition.py*** in your FORGE</span> or <span style=\"color:green\">Copy this notebook file into your forge and continue coding in this file</span>\n",
    "- Consider the file ***EMEP01_rv4.42_year.2019met_2019emis.nc***\n",
    "- Total nitrogen deposition is the sum of wet and dry, reduced and oxidized forms of Nitrogen:\n",
    "  - Consider our file EMEP01_rv4.42_year.2019met_2019emis.nc\n",
    "  - Look at the metadata @ https://emep.int/mscw/mscw_moddata.html to check which are the name of the layers in the NetCDF for the dry and wet, oxidized and reduced nitrogen\n",
    "  - Retrieve those, sum them up and convert it to Kg/ha, for the location near Beja, with Lat: 37.9, Lon: -7.8\n",
    "-\n",
    "- The output should be the following json:\n",
    "\n",
    "```json\n",
    "{\n",
    "    \"version\": \"0.1\",\n",
    "    \"version_notes\": \"Exercise for Green DataScience. Data extracted from 2019 EMEP (www.emep.int) dataset EMEP01_rv4.42_year.2019met_2019emis.nc with 0.1 degrees resolution (approx 11.1 km) - Dry and wet deposition of oxidized and reduced N (DDEP_OXN_m2Grid + DDEP_RDN_m2Grid + WDEP_OXN + WDEP_RDN) converted from mgN m-2 to kg ha-1\",\n",
    "    \"coordinate_requested\": {\n",
    "        \"lon\": \"-7.80\",\n",
    "        \"lat\": \"37.90\"\n",
    "    },\n",
    "    \"coordinate_retrieved\": {\n",
    "        \"lon\": \"-7.85\",\n",
    "        \"lat\": \"37.95\"\n",
    "    },\n",
    "    \"data\": {\n",
    "        \"total_n_deposition\": {\n",
    "            \"value\": \"2.6\",\n",
    "            \"unit\": \"kg ha-1\"\n",
    "        }\n",
    "    }\n",
    "}\n",
    "```"
   ]
  },
  {
   "cell_type": "code",
   "execution_count": 5,
   "metadata": {},
   "outputs": [
    {
     "name": "stdout",
     "output_type": "stream",
     "text": [
      "245.6 mgN/m2\n",
      "2.46 kg ha-1\n"
     ]
    }
   ],
   "source": [
    "# Load your NetCDF as before:\n",
    "import netCDF4 as nc \n",
    "import numpy as np\n",
    "import json\n",
    "import myFunctions as func\n",
    "f = 'EMEP01_rv4.42_year.2019met_2019emis.nc' # update this path to your own file\n",
    "\n",
    "ds = nc.Dataset(f)\n",
    "\n",
    "#list of the lat, lon, coordinates and precipitation\n",
    "lat = ds.variables['lat']\n",
    "lon = ds.variables['lon']\n",
    "dry_OXNdep = ds.variables['DDEP_OXN_m2Grid']\n",
    "dry_RDNdep = ds.variables['DDEP_RDN_m2Grid']\n",
    "wet_OXNdep = ds.variables['WDEP_OXN']\n",
    "wet_RDNdep = ds.variables['WDEP_RDN']\n",
    "\n",
    "# Extract latitude and longitude values to numpy arrays\n",
    "\n",
    "lat_np_array = ds.variables['lat'][:]\n",
    "lon_np_array = ds.variables['lon'][:]\n",
    "\n",
    "# Get the closest indexes from location Lat: 37.9, Lon: -7.8\n",
    "\n",
    "lat_value = 37.9\n",
    "lon_value = -7.8\n",
    "\n",
    "lat_index = func.closest_index(lat_value, lat_np_array)\n",
    "lon_index = func.closest_index(lon_value, lon_np_array)\n",
    "\n",
    "#Latitude and Longitude retrieved\n",
    "\n",
    "lat_retrieved = float(lat[lat_index])\n",
    "lon_retrieved = float(lon[lon_index])\n",
    "\n",
    "# Calculation of the Total nitrogen deposition (mgN/m2)\n",
    "\n",
    "total_n_deposition = dry_OXNdep[0, lat_index, lon_index] + wet_OXNdep[0, lat_index, lon_index] + dry_RDNdep[0, lat_index, lon_index] + wet_RDNdep[0, lat_index, lon_index]\n",
    "total_n_deposition = round(total_n_deposition, 2)\n",
    "print(total_n_deposition, dry_OXNdep.units)\n",
    "\n",
    "# Convertion of the total nitrogen deposition into kg ha-1\n",
    "\n",
    "convertion = (total_n_deposition/100)\n",
    "convertion = round(convertion, 2)\n",
    "print(convertion, \"kg ha-1\")\n",
    "\n",
    "\n"
   ]
  }
 ],
 "metadata": {
  "kernelspec": {
   "display_name": "Python 3.10.8 64-bit (microsoft store)",
   "language": "python",
   "name": "python3"
  },
  "language_info": {
   "codemirror_mode": {
    "name": "ipython",
    "version": 3
   },
   "file_extension": ".py",
   "mimetype": "text/x-python",
   "name": "python",
   "nbconvert_exporter": "python",
   "pygments_lexer": "ipython3",
   "version": "3.10.8"
  },
  "orig_nbformat": 4,
  "vscode": {
   "interpreter": {
    "hash": "0d0fb292d2b71c98c25315e90ef44ae548f3116b0dd78fd15839fca69618e06b"
   }
  }
 },
 "nbformat": 4,
 "nbformat_minor": 2
}
